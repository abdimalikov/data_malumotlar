{
 "cells": [
  {
   "cell_type": "code",
   "execution_count": 2,
   "metadata": {},
   "outputs": [],
   "source": [
    "import pandas as pd\n",
    "import numpy as np\n",
    "from pandas import Series"
   ]
  },
  {
   "cell_type": "code",
   "execution_count": 3,
   "metadata": {},
   "outputs": [],
   "source": [
    "data = {\n",
    "    'Viloyat' : [\"Andijon\",\"Buxoro\",\"Farg'ona\",\"Jizzax\",\"Xorazm\",\"Namangan\",\"Navoiy\",\"Qashqadaryo\",\"Qoraqalpog'iston Respublikasi\",\"Samarqand\",\"Sirdaryo\",\"Surxondaryo\",\"Toshkent\"]\n",
    "}"
   ]
  },
  {
   "cell_type": "code",
   "execution_count": 4,
   "metadata": {},
   "outputs": [],
   "source": [
    "vil = {1 : \"Andijon\", 2 : \"Buxoro\",3 : \"Farg'ona\", 4 : \"Jizzax\", 5 : \"Xorazm\", 6 : \"Namangan\", 7 : \"Navoiy\", 8 : \"Qashqadaryo\", 9 : \"Qoraqalpog'iston Respublikasi\", 10 : \"Samarqand\", 11 : \"Sirdaryo\", 12 : \"Surxondaryo\", 13 : \"Toshkent\"}\n",
    "soni = {1 : 1899000, 2 : 1384700, 3 : 2597000, 4 : 910500, 5 : 1200000, 6 : 1862000, 7 : 767500, 8 : 2029000, 9 : 1200000, 10 : 2322000, 11 : 648100, 12 : 1676000, 13 : 4450000}\n",
    "df = pd.DataFrame(\n",
    "    {\n",
    "        'Viloyatlar' : vil,\n",
    "        'Aholi soni' : soni\n",
    "    }\n",
    ")"
   ]
  },
  {
   "cell_type": "code",
   "execution_count": 5,
   "metadata": {},
   "outputs": [
    {
     "data": {
      "text/html": [
       "<div>\n",
       "<style scoped>\n",
       "    .dataframe tbody tr th:only-of-type {\n",
       "        vertical-align: middle;\n",
       "    }\n",
       "\n",
       "    .dataframe tbody tr th {\n",
       "        vertical-align: top;\n",
       "    }\n",
       "\n",
       "    .dataframe thead th {\n",
       "        text-align: right;\n",
       "    }\n",
       "</style>\n",
       "<table border=\"1\" class=\"dataframe\">\n",
       "  <thead>\n",
       "    <tr style=\"text-align: right;\">\n",
       "      <th></th>\n",
       "      <th>Viloyatlar</th>\n",
       "      <th>Aholi soni</th>\n",
       "    </tr>\n",
       "  </thead>\n",
       "  <tbody>\n",
       "    <tr>\n",
       "      <th>1</th>\n",
       "      <td>Andijon</td>\n",
       "      <td>1899000</td>\n",
       "    </tr>\n",
       "    <tr>\n",
       "      <th>2</th>\n",
       "      <td>Buxoro</td>\n",
       "      <td>1384700</td>\n",
       "    </tr>\n",
       "    <tr>\n",
       "      <th>3</th>\n",
       "      <td>Farg'ona</td>\n",
       "      <td>2597000</td>\n",
       "    </tr>\n",
       "    <tr>\n",
       "      <th>4</th>\n",
       "      <td>Jizzax</td>\n",
       "      <td>910500</td>\n",
       "    </tr>\n",
       "    <tr>\n",
       "      <th>5</th>\n",
       "      <td>Xorazm</td>\n",
       "      <td>1200000</td>\n",
       "    </tr>\n",
       "    <tr>\n",
       "      <th>6</th>\n",
       "      <td>Namangan</td>\n",
       "      <td>1862000</td>\n",
       "    </tr>\n",
       "    <tr>\n",
       "      <th>7</th>\n",
       "      <td>Navoiy</td>\n",
       "      <td>767500</td>\n",
       "    </tr>\n",
       "    <tr>\n",
       "      <th>8</th>\n",
       "      <td>Qashqadaryo</td>\n",
       "      <td>2029000</td>\n",
       "    </tr>\n",
       "    <tr>\n",
       "      <th>9</th>\n",
       "      <td>Qoraqalpog'iston Respublikasi</td>\n",
       "      <td>1200000</td>\n",
       "    </tr>\n",
       "    <tr>\n",
       "      <th>10</th>\n",
       "      <td>Samarqand</td>\n",
       "      <td>2322000</td>\n",
       "    </tr>\n",
       "    <tr>\n",
       "      <th>11</th>\n",
       "      <td>Sirdaryo</td>\n",
       "      <td>648100</td>\n",
       "    </tr>\n",
       "    <tr>\n",
       "      <th>12</th>\n",
       "      <td>Surxondaryo</td>\n",
       "      <td>1676000</td>\n",
       "    </tr>\n",
       "    <tr>\n",
       "      <th>13</th>\n",
       "      <td>Toshkent</td>\n",
       "      <td>4450000</td>\n",
       "    </tr>\n",
       "  </tbody>\n",
       "</table>\n",
       "</div>"
      ],
      "text/plain": [
       "                       Viloyatlar  Aholi soni\n",
       "1                         Andijon     1899000\n",
       "2                          Buxoro     1384700\n",
       "3                        Farg'ona     2597000\n",
       "4                          Jizzax      910500\n",
       "5                          Xorazm     1200000\n",
       "6                        Namangan     1862000\n",
       "7                          Navoiy      767500\n",
       "8                     Qashqadaryo     2029000\n",
       "9   Qoraqalpog'iston Respublikasi     1200000\n",
       "10                      Samarqand     2322000\n",
       "11                       Sirdaryo      648100\n",
       "12                    Surxondaryo     1676000\n",
       "13                       Toshkent     4450000"
      ]
     },
     "execution_count": 5,
     "metadata": {},
     "output_type": "execute_result"
    }
   ],
   "source": [
    "df"
   ]
  },
  {
   "cell_type": "code",
   "execution_count": 6,
   "metadata": {},
   "outputs": [
    {
     "data": {
      "text/plain": [
       "Viloyatlar    Toshkent\n",
       "Aholi soni     4450000\n",
       "Name: 13, dtype: object"
      ]
     },
     "execution_count": 6,
     "metadata": {},
     "output_type": "execute_result"
    }
   ],
   "source": [
    "df.iloc[-1]"
   ]
  },
  {
   "cell_type": "code",
   "execution_count": 7,
   "metadata": {},
   "outputs": [
    {
     "data": {
      "text/plain": [
       "26"
      ]
     },
     "execution_count": 7,
     "metadata": {},
     "output_type": "execute_result"
    }
   ],
   "source": [
    "df.size"
   ]
  },
  {
   "cell_type": "code",
   "execution_count": 8,
   "metadata": {},
   "outputs": [
    {
     "data": {
      "text/html": [
       "<div>\n",
       "<style scoped>\n",
       "    .dataframe tbody tr th:only-of-type {\n",
       "        vertical-align: middle;\n",
       "    }\n",
       "\n",
       "    .dataframe tbody tr th {\n",
       "        vertical-align: top;\n",
       "    }\n",
       "\n",
       "    .dataframe thead th {\n",
       "        text-align: right;\n",
       "    }\n",
       "</style>\n",
       "<table border=\"1\" class=\"dataframe\">\n",
       "  <thead>\n",
       "    <tr style=\"text-align: right;\">\n",
       "      <th></th>\n",
       "      <th>Viloyatlar</th>\n",
       "      <th>Aholi soni</th>\n",
       "    </tr>\n",
       "  </thead>\n",
       "  <tbody>\n",
       "    <tr>\n",
       "      <th>6</th>\n",
       "      <td>Namangan</td>\n",
       "      <td>1862000</td>\n",
       "    </tr>\n",
       "    <tr>\n",
       "      <th>7</th>\n",
       "      <td>Navoiy</td>\n",
       "      <td>767500</td>\n",
       "    </tr>\n",
       "    <tr>\n",
       "      <th>8</th>\n",
       "      <td>Qashqadaryo</td>\n",
       "      <td>2029000</td>\n",
       "    </tr>\n",
       "  </tbody>\n",
       "</table>\n",
       "</div>"
      ],
      "text/plain": [
       "    Viloyatlar  Aholi soni\n",
       "6     Namangan     1862000\n",
       "7       Navoiy      767500\n",
       "8  Qashqadaryo     2029000"
      ]
     },
     "execution_count": 8,
     "metadata": {},
     "output_type": "execute_result"
    }
   ],
   "source": [
    "df.loc[[6,7,8]]"
   ]
  },
  {
   "cell_type": "code",
   "execution_count": 9,
   "metadata": {},
   "outputs": [
    {
     "data": {
      "text/html": [
       "<div>\n",
       "<style scoped>\n",
       "    .dataframe tbody tr th:only-of-type {\n",
       "        vertical-align: middle;\n",
       "    }\n",
       "\n",
       "    .dataframe tbody tr th {\n",
       "        vertical-align: top;\n",
       "    }\n",
       "\n",
       "    .dataframe thead th {\n",
       "        text-align: right;\n",
       "    }\n",
       "</style>\n",
       "<table border=\"1\" class=\"dataframe\">\n",
       "  <thead>\n",
       "    <tr style=\"text-align: right;\">\n",
       "      <th></th>\n",
       "      <th>Viloyatlar</th>\n",
       "      <th>Aholi soni</th>\n",
       "    </tr>\n",
       "  </thead>\n",
       "  <tbody>\n",
       "    <tr>\n",
       "      <th>4</th>\n",
       "      <td>Jizzax</td>\n",
       "      <td>910500</td>\n",
       "    </tr>\n",
       "    <tr>\n",
       "      <th>2</th>\n",
       "      <td>Buxoro</td>\n",
       "      <td>1384700</td>\n",
       "    </tr>\n",
       "    <tr>\n",
       "      <th>6</th>\n",
       "      <td>Namangan</td>\n",
       "      <td>1862000</td>\n",
       "    </tr>\n",
       "  </tbody>\n",
       "</table>\n",
       "</div>"
      ],
      "text/plain": [
       "  Viloyatlar  Aholi soni\n",
       "4     Jizzax      910500\n",
       "2     Buxoro     1384700\n",
       "6   Namangan     1862000"
      ]
     },
     "execution_count": 9,
     "metadata": {},
     "output_type": "execute_result"
    }
   ],
   "source": [
    "df.iloc[[3,1,5]]\n"
   ]
  },
  {
   "cell_type": "code",
   "execution_count": 10,
   "metadata": {},
   "outputs": [
    {
     "name": "stdout",
     "output_type": "stream",
     "text": [
      "Aholi soni 1 milionnan ko'p viloyatlar\n"
     ]
    },
    {
     "data": {
      "text/html": [
       "<div>\n",
       "<style scoped>\n",
       "    .dataframe tbody tr th:only-of-type {\n",
       "        vertical-align: middle;\n",
       "    }\n",
       "\n",
       "    .dataframe tbody tr th {\n",
       "        vertical-align: top;\n",
       "    }\n",
       "\n",
       "    .dataframe thead th {\n",
       "        text-align: right;\n",
       "    }\n",
       "</style>\n",
       "<table border=\"1\" class=\"dataframe\">\n",
       "  <thead>\n",
       "    <tr style=\"text-align: right;\">\n",
       "      <th></th>\n",
       "      <th>Viloyatlar</th>\n",
       "      <th>Aholi soni</th>\n",
       "    </tr>\n",
       "  </thead>\n",
       "  <tbody>\n",
       "    <tr>\n",
       "      <th>1</th>\n",
       "      <td>Andijon</td>\n",
       "      <td>1899000</td>\n",
       "    </tr>\n",
       "    <tr>\n",
       "      <th>2</th>\n",
       "      <td>Buxoro</td>\n",
       "      <td>1384700</td>\n",
       "    </tr>\n",
       "    <tr>\n",
       "      <th>3</th>\n",
       "      <td>Farg'ona</td>\n",
       "      <td>2597000</td>\n",
       "    </tr>\n",
       "    <tr>\n",
       "      <th>5</th>\n",
       "      <td>Xorazm</td>\n",
       "      <td>1200000</td>\n",
       "    </tr>\n",
       "    <tr>\n",
       "      <th>6</th>\n",
       "      <td>Namangan</td>\n",
       "      <td>1862000</td>\n",
       "    </tr>\n",
       "    <tr>\n",
       "      <th>8</th>\n",
       "      <td>Qashqadaryo</td>\n",
       "      <td>2029000</td>\n",
       "    </tr>\n",
       "    <tr>\n",
       "      <th>9</th>\n",
       "      <td>Qoraqalpog'iston Respublikasi</td>\n",
       "      <td>1200000</td>\n",
       "    </tr>\n",
       "    <tr>\n",
       "      <th>10</th>\n",
       "      <td>Samarqand</td>\n",
       "      <td>2322000</td>\n",
       "    </tr>\n",
       "    <tr>\n",
       "      <th>12</th>\n",
       "      <td>Surxondaryo</td>\n",
       "      <td>1676000</td>\n",
       "    </tr>\n",
       "    <tr>\n",
       "      <th>13</th>\n",
       "      <td>Toshkent</td>\n",
       "      <td>4450000</td>\n",
       "    </tr>\n",
       "  </tbody>\n",
       "</table>\n",
       "</div>"
      ],
      "text/plain": [
       "                       Viloyatlar  Aholi soni\n",
       "1                         Andijon     1899000\n",
       "2                          Buxoro     1384700\n",
       "3                        Farg'ona     2597000\n",
       "5                          Xorazm     1200000\n",
       "6                        Namangan     1862000\n",
       "8                     Qashqadaryo     2029000\n",
       "9   Qoraqalpog'iston Respublikasi     1200000\n",
       "10                      Samarqand     2322000\n",
       "12                    Surxondaryo     1676000\n",
       "13                       Toshkent     4450000"
      ]
     },
     "execution_count": 10,
     "metadata": {},
     "output_type": "execute_result"
    }
   ],
   "source": [
    "print(\"Aholi soni 1 milionnan ko'p viloyatlar\")\n",
    "df[df['Aholi soni'] >= 1000000]"
   ]
  },
  {
   "cell_type": "code",
   "execution_count": 11,
   "metadata": {},
   "outputs": [
    {
     "name": "stdout",
     "output_type": "stream",
     "text": [
      "Aholi soni 1 milionnan kam viloyatlar\n"
     ]
    },
    {
     "data": {
      "text/html": [
       "<div>\n",
       "<style scoped>\n",
       "    .dataframe tbody tr th:only-of-type {\n",
       "        vertical-align: middle;\n",
       "    }\n",
       "\n",
       "    .dataframe tbody tr th {\n",
       "        vertical-align: top;\n",
       "    }\n",
       "\n",
       "    .dataframe thead th {\n",
       "        text-align: right;\n",
       "    }\n",
       "</style>\n",
       "<table border=\"1\" class=\"dataframe\">\n",
       "  <thead>\n",
       "    <tr style=\"text-align: right;\">\n",
       "      <th></th>\n",
       "      <th>Viloyatlar</th>\n",
       "      <th>Aholi soni</th>\n",
       "    </tr>\n",
       "  </thead>\n",
       "  <tbody>\n",
       "    <tr>\n",
       "      <th>4</th>\n",
       "      <td>Jizzax</td>\n",
       "      <td>910500</td>\n",
       "    </tr>\n",
       "    <tr>\n",
       "      <th>7</th>\n",
       "      <td>Navoiy</td>\n",
       "      <td>767500</td>\n",
       "    </tr>\n",
       "    <tr>\n",
       "      <th>11</th>\n",
       "      <td>Sirdaryo</td>\n",
       "      <td>648100</td>\n",
       "    </tr>\n",
       "  </tbody>\n",
       "</table>\n",
       "</div>"
      ],
      "text/plain": [
       "   Viloyatlar  Aholi soni\n",
       "4      Jizzax      910500\n",
       "7      Navoiy      767500\n",
       "11   Sirdaryo      648100"
      ]
     },
     "execution_count": 11,
     "metadata": {},
     "output_type": "execute_result"
    }
   ],
   "source": [
    "print(\"Aholi soni 1 milionnan kam viloyatlar\")\n",
    "df[df['Aholi soni'] <= 1000000]"
   ]
  },
  {
   "cell_type": "code",
   "execution_count": 12,
   "metadata": {},
   "outputs": [
    {
     "name": "stdout",
     "output_type": "stream",
     "text": [
      "Andijon                            4200\n",
      "Buxoro                            39400\n",
      "Farg'ona                           6800\n",
      "Jizzax                            20500\n",
      "Xorazm                             6300\n",
      "Namangan                           7900\n",
      "Navoiy                           110800\n",
      "Qashqadaryo                       28400\n",
      "Qoraqalpog'iston Respublikasi    160000\n",
      "Samarqand                         16400\n",
      "Sirdaryo                           5100\n",
      "Surxondaryo                       20800\n",
      "Toshkent                          15300\n",
      "Name: Hududlar maydoni, dtype: int64\n"
     ]
    }
   ],
   "source": [
    "dict = {\n",
    "    \"Andijon\": 4200,\n",
    "    \"Buxoro\": 39400,\n",
    "    \"Farg'ona\": 6800,\n",
    "    \"Jizzax\": 20500,\n",
    "    \"Xorazm\": 6300,\n",
    "    \"Namangan\": 7900,\n",
    "    \"Navoiy\": 110800,\n",
    "    \"Qashqadaryo\": 28400,\n",
    "    \"Qoraqalpog'iston Respublikasi\": 160000,\n",
    "    \"Samarqand\": 16400,\n",
    "    \"Sirdaryo\": 5100,\n",
    "    \"Surxondaryo\": 20800,\n",
    "    \"Toshkent\": 15300,\n",
    "    \n",
    "}\n",
    "obj = pd.Series(dict)\n",
    "obj.name = \"Hududlar maydoni\"\n",
    "print(obj)"
   ]
  },
  {
   "cell_type": "code",
   "execution_count": 13,
   "metadata": {},
   "outputs": [
    {
     "name": "stdout",
     "output_type": "stream",
     "text": [
      "Eng katta Hudud: Qoraqalpog'iston Respublikasi\n",
      "Eng kishik Hudud:Andijon\n"
     ]
    }
   ],
   "source": [
    "print(f\"Eng katta Hudud: {obj.idxmax()}\")\n",
    "print(f\"Eng kishik Hudud:{obj.idxmin()}\")"
   ]
  },
  {
   "cell_type": "code",
   "execution_count": 14,
   "metadata": {},
   "outputs": [
    {
     "data": {
      "text/plain": [
       "441900"
      ]
     },
     "execution_count": 14,
     "metadata": {},
     "output_type": "execute_result"
    }
   ],
   "source": [
    "sum(obj)"
   ]
  },
  {
   "cell_type": "code",
   "execution_count": 15,
   "metadata": {},
   "outputs": [
    {
     "data": {
      "text/plain": [
       "22945800"
      ]
     },
     "execution_count": 15,
     "metadata": {},
     "output_type": "execute_result"
    }
   ],
   "source": [
    "sum(df['Aholi soni'])"
   ]
  },
  {
   "cell_type": "code",
   "execution_count": 16,
   "metadata": {},
   "outputs": [
    {
     "name": "stdout",
     "output_type": "stream",
     "text": [
      "Aholi soni 1 millionnan ko'p viloyatlar\n"
     ]
    },
    {
     "data": {
      "text/html": [
       "<div>\n",
       "<style scoped>\n",
       "    .dataframe tbody tr th:only-of-type {\n",
       "        vertical-align: middle;\n",
       "    }\n",
       "\n",
       "    .dataframe tbody tr th {\n",
       "        vertical-align: top;\n",
       "    }\n",
       "\n",
       "    .dataframe thead th {\n",
       "        text-align: right;\n",
       "    }\n",
       "</style>\n",
       "<table border=\"1\" class=\"dataframe\">\n",
       "  <thead>\n",
       "    <tr style=\"text-align: right;\">\n",
       "      <th></th>\n",
       "      <th>Viloyatlar</th>\n",
       "      <th>Aholi soni</th>\n",
       "    </tr>\n",
       "  </thead>\n",
       "  <tbody>\n",
       "    <tr>\n",
       "      <th>1</th>\n",
       "      <td>Andijon</td>\n",
       "      <td>1899000</td>\n",
       "    </tr>\n",
       "    <tr>\n",
       "      <th>2</th>\n",
       "      <td>Buxoro</td>\n",
       "      <td>1384700</td>\n",
       "    </tr>\n",
       "    <tr>\n",
       "      <th>3</th>\n",
       "      <td>Farg'ona</td>\n",
       "      <td>2597000</td>\n",
       "    </tr>\n",
       "    <tr>\n",
       "      <th>5</th>\n",
       "      <td>Xorazm</td>\n",
       "      <td>1200000</td>\n",
       "    </tr>\n",
       "    <tr>\n",
       "      <th>6</th>\n",
       "      <td>Namangan</td>\n",
       "      <td>1862000</td>\n",
       "    </tr>\n",
       "    <tr>\n",
       "      <th>8</th>\n",
       "      <td>Qashqadaryo</td>\n",
       "      <td>2029000</td>\n",
       "    </tr>\n",
       "    <tr>\n",
       "      <th>9</th>\n",
       "      <td>Qoraqalpog'iston Respublikasi</td>\n",
       "      <td>1200000</td>\n",
       "    </tr>\n",
       "    <tr>\n",
       "      <th>10</th>\n",
       "      <td>Samarqand</td>\n",
       "      <td>2322000</td>\n",
       "    </tr>\n",
       "    <tr>\n",
       "      <th>12</th>\n",
       "      <td>Surxondaryo</td>\n",
       "      <td>1676000</td>\n",
       "    </tr>\n",
       "    <tr>\n",
       "      <th>13</th>\n",
       "      <td>Toshkent</td>\n",
       "      <td>4450000</td>\n",
       "    </tr>\n",
       "  </tbody>\n",
       "</table>\n",
       "</div>"
      ],
      "text/plain": [
       "                       Viloyatlar  Aholi soni\n",
       "1                         Andijon     1899000\n",
       "2                          Buxoro     1384700\n",
       "3                        Farg'ona     2597000\n",
       "5                          Xorazm     1200000\n",
       "6                        Namangan     1862000\n",
       "8                     Qashqadaryo     2029000\n",
       "9   Qoraqalpog'iston Respublikasi     1200000\n",
       "10                      Samarqand     2322000\n",
       "12                    Surxondaryo     1676000\n",
       "13                       Toshkent     4450000"
      ]
     },
     "execution_count": 16,
     "metadata": {},
     "output_type": "execute_result"
    }
   ],
   "source": [
    "print(\"Aholi soni 1 millionnan ko'p viloyatlar\")\n",
    "df2 = df[df['Aholi soni'] > 1000000]\n",
    "df2"
   ]
  },
  {
   "cell_type": "code",
   "execution_count": 17,
   "metadata": {},
   "outputs": [
    {
     "name": "stdout",
     "output_type": "stream",
     "text": [
      "Aholi soni 1 millionnan kam viloyatlar\n"
     ]
    },
    {
     "data": {
      "text/html": [
       "<div>\n",
       "<style scoped>\n",
       "    .dataframe tbody tr th:only-of-type {\n",
       "        vertical-align: middle;\n",
       "    }\n",
       "\n",
       "    .dataframe tbody tr th {\n",
       "        vertical-align: top;\n",
       "    }\n",
       "\n",
       "    .dataframe thead th {\n",
       "        text-align: right;\n",
       "    }\n",
       "</style>\n",
       "<table border=\"1\" class=\"dataframe\">\n",
       "  <thead>\n",
       "    <tr style=\"text-align: right;\">\n",
       "      <th></th>\n",
       "      <th>Viloyatlar</th>\n",
       "      <th>Aholi soni</th>\n",
       "    </tr>\n",
       "  </thead>\n",
       "  <tbody>\n",
       "    <tr>\n",
       "      <th>4</th>\n",
       "      <td>Jizzax</td>\n",
       "      <td>910500</td>\n",
       "    </tr>\n",
       "    <tr>\n",
       "      <th>7</th>\n",
       "      <td>Navoiy</td>\n",
       "      <td>767500</td>\n",
       "    </tr>\n",
       "    <tr>\n",
       "      <th>11</th>\n",
       "      <td>Sirdaryo</td>\n",
       "      <td>648100</td>\n",
       "    </tr>\n",
       "  </tbody>\n",
       "</table>\n",
       "</div>"
      ],
      "text/plain": [
       "   Viloyatlar  Aholi soni\n",
       "4      Jizzax      910500\n",
       "7      Navoiy      767500\n",
       "11   Sirdaryo      648100"
      ]
     },
     "execution_count": 17,
     "metadata": {},
     "output_type": "execute_result"
    }
   ],
   "source": [
    "print(\"Aholi soni 1 millionnan kam viloyatlar\")\n",
    "df3 = df[df['Aholi soni'] < 1000000]\n",
    "df3"
   ]
  },
  {
   "cell_type": "code",
   "execution_count": 18,
   "metadata": {},
   "outputs": [
    {
     "name": "stdout",
     "output_type": "stream",
     "text": [
      "Hududlar maydoni bo'yicha tartiblash\n"
     ]
    },
    {
     "data": {
      "text/plain": [
       "Andijon                            4200\n",
       "Sirdaryo                           5100\n",
       "Xorazm                             6300\n",
       "Farg'ona                           6800\n",
       "Namangan                           7900\n",
       "Toshkent                          15300\n",
       "Samarqand                         16400\n",
       "Jizzax                            20500\n",
       "Surxondaryo                       20800\n",
       "Qashqadaryo                       28400\n",
       "Buxoro                            39400\n",
       "Navoiy                           110800\n",
       "Qoraqalpog'iston Respublikasi    160000\n",
       "Name: Hududlar maydoni, dtype: int64"
      ]
     },
     "execution_count": 18,
     "metadata": {},
     "output_type": "execute_result"
    }
   ],
   "source": [
    "print(\"Hududlar maydoni bo'yicha tartiblash\")\n",
    "obj.sort_values()"
   ]
  },
  {
   "cell_type": "code",
   "execution_count": 19,
   "metadata": {},
   "outputs": [
    {
     "name": "stdout",
     "output_type": "stream",
     "text": [
      "Aholi soni bo'yicha tartiblash\n"
     ]
    },
    {
     "data": {
      "text/plain": [
       "<bound method DataFrame.sort_values of                        Viloyatlar  Aholi soni\n",
       "1                         Andijon     1899000\n",
       "2                          Buxoro     1384700\n",
       "3                        Farg'ona     2597000\n",
       "4                          Jizzax      910500\n",
       "5                          Xorazm     1200000\n",
       "6                        Namangan     1862000\n",
       "7                          Navoiy      767500\n",
       "8                     Qashqadaryo     2029000\n",
       "9   Qoraqalpog'iston Respublikasi     1200000\n",
       "10                      Samarqand     2322000\n",
       "11                       Sirdaryo      648100\n",
       "12                    Surxondaryo     1676000\n",
       "13                       Toshkent     4450000>"
      ]
     },
     "execution_count": 19,
     "metadata": {},
     "output_type": "execute_result"
    }
   ],
   "source": [
    "print(\"Aholi soni bo'yicha tartiblash\")\n",
    "df.sort_values"
   ]
  },
  {
   "cell_type": "code",
   "execution_count": 20,
   "metadata": {},
   "outputs": [
    {
     "data": {
      "text/plain": [
       "False"
      ]
     },
     "execution_count": 20,
     "metadata": {},
     "output_type": "execute_result"
    }
   ],
   "source": [
    "'Navoiy' in df[df['Aholi soni'] > 1000000]"
   ]
  },
  {
   "cell_type": "code",
   "execution_count": 21,
   "metadata": {},
   "outputs": [
    {
     "data": {
      "text/plain": [
       "False"
      ]
     },
     "execution_count": 21,
     "metadata": {},
     "output_type": "execute_result"
    }
   ],
   "source": [
    "'Toshkent' in df[df['Aholi soni'] > 1000000]"
   ]
  },
  {
   "cell_type": "code",
   "execution_count": 22,
   "metadata": {},
   "outputs": [
    {
     "name": "stdout",
     "output_type": "stream",
     "text": [
      "Eng katta hudud : Qoraqalpog'iston Respublikasi\n",
      "Eng kichik hudud : Andijon\n"
     ]
    }
   ],
   "source": [
    "print(f\"Eng katta hudud : {obj.idxmax()}\")\n",
    "print(f\"Eng kichik hudud : {obj.idxmin()}\")"
   ]
  },
  {
   "cell_type": "code",
   "execution_count": 34,
   "metadata": {},
   "outputs": [
    {
     "name": "stdout",
     "output_type": "stream",
     "text": [
      "Aholi soni bo'yicha tartiblash\n"
     ]
    },
    {
     "data": {
      "text/plain": [
       "5     1200000\n",
       "9     1200000\n",
       "2     1384700\n",
       "12    1676000\n",
       "6     1862000\n",
       "1     1899000\n",
       "8     2029000\n",
       "10    2322000\n",
       "3     2597000\n",
       "13    4450000\n",
       "Name: Aholi soni, dtype: int64"
      ]
     },
     "execution_count": 34,
     "metadata": {},
     "output_type": "execute_result"
    }
   ],
   "source": [
    "print(\"Aholi soni bo'yicha tartiblash\")\n",
    "df2['Aholi soni'].sort_values()"
   ]
  },
  {
   "cell_type": "code",
   "execution_count": 35,
   "metadata": {},
   "outputs": [
    {
     "data": {
      "text/html": [
       "<div>\n",
       "<style scoped>\n",
       "    .dataframe tbody tr th:only-of-type {\n",
       "        vertical-align: middle;\n",
       "    }\n",
       "\n",
       "    .dataframe tbody tr th {\n",
       "        vertical-align: top;\n",
       "    }\n",
       "\n",
       "    .dataframe thead th {\n",
       "        text-align: right;\n",
       "    }\n",
       "</style>\n",
       "<table border=\"1\" class=\"dataframe\">\n",
       "  <thead>\n",
       "    <tr style=\"text-align: right;\">\n",
       "      <th></th>\n",
       "      <th>Viloyatlar</th>\n",
       "      <th>Aholi soni</th>\n",
       "    </tr>\n",
       "  </thead>\n",
       "  <tbody>\n",
       "    <tr>\n",
       "      <th>1</th>\n",
       "      <td>Andijon</td>\n",
       "      <td>1899000</td>\n",
       "    </tr>\n",
       "    <tr>\n",
       "      <th>2</th>\n",
       "      <td>Buxoro</td>\n",
       "      <td>1384700</td>\n",
       "    </tr>\n",
       "    <tr>\n",
       "      <th>3</th>\n",
       "      <td>Farg'ona</td>\n",
       "      <td>2597000</td>\n",
       "    </tr>\n",
       "    <tr>\n",
       "      <th>4</th>\n",
       "      <td>Jizzax</td>\n",
       "      <td>910500</td>\n",
       "    </tr>\n",
       "    <tr>\n",
       "      <th>5</th>\n",
       "      <td>Xorazm</td>\n",
       "      <td>1200000</td>\n",
       "    </tr>\n",
       "    <tr>\n",
       "      <th>6</th>\n",
       "      <td>Namangan</td>\n",
       "      <td>1862000</td>\n",
       "    </tr>\n",
       "    <tr>\n",
       "      <th>7</th>\n",
       "      <td>Navoiy</td>\n",
       "      <td>767500</td>\n",
       "    </tr>\n",
       "    <tr>\n",
       "      <th>8</th>\n",
       "      <td>Qashqadaryo</td>\n",
       "      <td>2029000</td>\n",
       "    </tr>\n",
       "    <tr>\n",
       "      <th>9</th>\n",
       "      <td>Qoraqalpog'iston Respublikasi</td>\n",
       "      <td>1200000</td>\n",
       "    </tr>\n",
       "    <tr>\n",
       "      <th>10</th>\n",
       "      <td>Samarqand</td>\n",
       "      <td>2322000</td>\n",
       "    </tr>\n",
       "    <tr>\n",
       "      <th>11</th>\n",
       "      <td>Sirdaryo</td>\n",
       "      <td>648100</td>\n",
       "    </tr>\n",
       "    <tr>\n",
       "      <th>12</th>\n",
       "      <td>Surxondaryo</td>\n",
       "      <td>1676000</td>\n",
       "    </tr>\n",
       "    <tr>\n",
       "      <th>13</th>\n",
       "      <td>Toshkent</td>\n",
       "      <td>4450000</td>\n",
       "    </tr>\n",
       "  </tbody>\n",
       "</table>\n",
       "</div>"
      ],
      "text/plain": [
       "                       Viloyatlar  Aholi soni\n",
       "1                         Andijon     1899000\n",
       "2                          Buxoro     1384700\n",
       "3                        Farg'ona     2597000\n",
       "4                          Jizzax      910500\n",
       "5                          Xorazm     1200000\n",
       "6                        Namangan     1862000\n",
       "7                          Navoiy      767500\n",
       "8                     Qashqadaryo     2029000\n",
       "9   Qoraqalpog'iston Respublikasi     1200000\n",
       "10                      Samarqand     2322000\n",
       "11                       Sirdaryo      648100\n",
       "12                    Surxondaryo     1676000\n",
       "13                       Toshkent     4450000"
      ]
     },
     "execution_count": 35,
     "metadata": {},
     "output_type": "execute_result"
    }
   ],
   "source": [
    "df"
   ]
  },
  {
   "cell_type": "code",
   "execution_count": null,
   "metadata": {},
   "outputs": [],
   "source": []
  }
 ],
 "metadata": {
  "kernelspec": {
   "display_name": "data_scinese",
   "language": "python",
   "name": "python3"
  },
  "language_info": {
   "codemirror_mode": {
    "name": "ipython",
    "version": 3
   },
   "file_extension": ".py",
   "mimetype": "text/x-python",
   "name": "python",
   "nbconvert_exporter": "python",
   "pygments_lexer": "ipython3",
   "version": "3.11.7"
  }
 },
 "nbformat": 4,
 "nbformat_minor": 2
}
